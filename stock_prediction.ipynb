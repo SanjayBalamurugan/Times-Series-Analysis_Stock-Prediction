{
 "cells": [
  {
   "cell_type": "markdown",
   "metadata": {},
   "source": [
    "# Stock Prediction of GOLD - LSTM & ARIMA Model\n",
    "\n",
    "## OPTION 2"
   ]
  },
  {
   "cell_type": "markdown",
   "metadata": {},
   "source": [
    "## Importing Libraries"
   ]
  },
  {
   "cell_type": "code",
   "execution_count": 37,
   "metadata": {
    "_cell_guid": "b1076dfc-b9ad-4769-8c92-a6c4dae69d19",
    "_uuid": "8f2839f25d086af736a60e9eeb907d3b93b6e0e5",
    "execution": {
     "iopub.execute_input": "2022-02-21T17:32:29.974819Z",
     "iopub.status.busy": "2022-02-21T17:32:29.974442Z",
     "iopub.status.idle": "2022-02-21T17:32:31.371355Z",
     "shell.execute_reply": "2022-02-21T17:32:31.370432Z",
     "shell.execute_reply.started": "2022-02-21T17:32:29.974716Z"
    }
   },
   "outputs": [],
   "source": [
    "import numpy as np\n",
    "import pandas as pd\n",
    "import os\n",
    "import matplotlib.pyplot as plt\n",
    "from statsmodels.graphics.tsaplots import plot_acf, plot_pacf\n",
    "from statsmodels.tsa.stattools import adfuller\n",
    "from sklearn.linear_model import LinearRegression\n",
    "from statsmodels.tsa.arima.model import ARIMA\n",
    "from datetime import datetime\n",
    "from sklearn.metrics import mean_squared_error"
   ]
  },
  {
   "cell_type": "markdown",
   "metadata": {},
   "source": [
    "## Loading data"
   ]
  },
  {
   "cell_type": "code",
   "execution_count": 38,
   "metadata": {
    "execution": {
     "iopub.execute_input": "2022-02-21T17:32:31.373748Z",
     "iopub.status.busy": "2022-02-21T17:32:31.373453Z",
     "iopub.status.idle": "2022-02-21T17:32:31.419706Z",
     "shell.execute_reply": "2022-02-21T17:32:31.419104Z",
     "shell.execute_reply.started": "2022-02-21T17:32:31.373712Z"
    }
   },
   "outputs": [],
   "source": [
    "data = pd.read_csv('D:\\\\AI CLASS\\\\6TH SEM\\\\FINANCIAL TIME SERIES ANALYSIS\\\\ASSIGNMENT\\\\ASS 2\\\\data4.csv')\n",
    "d1 = pd.read_csv('D:\\\\AI CLASS\\\\6TH SEM\\\\FINANCIAL TIME SERIES ANALYSIS\\\\ASSIGNMENT\\\\ASS 2\\\\data1.csv')\n",
    "d2 = pd.read_csv('D:\\\\AI CLASS\\\\6TH SEM\\\\FINANCIAL TIME SERIES ANALYSIS\\\\ASSIGNMENT\\\\ASS 2\\\\data2.csv')\n",
    "d3 = pd.read_csv('D:\\\\AI CLASS\\\\6TH SEM\\\\FINANCIAL TIME SERIES ANALYSIS\\\\ASSIGNMENT\\\\ASS 2\\\\data3.csv').drop(0)"
   ]
  },
  {
   "cell_type": "code",
   "execution_count": 39,
   "metadata": {
    "execution": {
     "iopub.execute_input": "2022-02-21T17:32:31.421176Z",
     "iopub.status.busy": "2022-02-21T17:32:31.420628Z",
     "iopub.status.idle": "2022-02-21T17:32:31.428075Z",
     "shell.execute_reply": "2022-02-21T17:32:31.427260Z",
     "shell.execute_reply.started": "2022-02-21T17:32:31.421142Z"
    }
   },
   "outputs": [],
   "source": [
    "data = data.append([d1,d2, d3], ignore_index=True)"
   ]
  },
  {
   "cell_type": "code",
   "execution_count": 40,
   "metadata": {
    "execution": {
     "iopub.execute_input": "2022-02-21T17:32:31.430034Z",
     "iopub.status.busy": "2022-02-21T17:32:31.429479Z",
     "iopub.status.idle": "2022-02-21T17:32:31.454149Z",
     "shell.execute_reply": "2022-02-21T17:32:31.453334Z",
     "shell.execute_reply.started": "2022-02-21T17:32:31.429947Z"
    }
   },
   "outputs": [
    {
     "data": {
      "text/html": [
       "<div>\n",
       "<style scoped>\n",
       "    .dataframe tbody tr th:only-of-type {\n",
       "        vertical-align: middle;\n",
       "    }\n",
       "\n",
       "    .dataframe tbody tr th {\n",
       "        vertical-align: top;\n",
       "    }\n",
       "\n",
       "    .dataframe thead th {\n",
       "        text-align: right;\n",
       "    }\n",
       "</style>\n",
       "<table border=\"1\" class=\"dataframe\">\n",
       "  <thead>\n",
       "    <tr style=\"text-align: right;\">\n",
       "      <th></th>\n",
       "      <th>Date</th>\n",
       "      <th>Open</th>\n",
       "      <th>High</th>\n",
       "      <th>Low</th>\n",
       "      <th>Close</th>\n",
       "      <th>Shares Traded</th>\n",
       "      <th>Turnover (Rs. Cr)</th>\n",
       "    </tr>\n",
       "  </thead>\n",
       "  <tbody>\n",
       "    <tr>\n",
       "      <th>0</th>\n",
       "      <td>01-Jan-2019</td>\n",
       "      <td>10881.70</td>\n",
       "      <td>10923.60</td>\n",
       "      <td>10807.10</td>\n",
       "      <td>10910.10</td>\n",
       "      <td>159404542</td>\n",
       "      <td>8688.26</td>\n",
       "    </tr>\n",
       "    <tr>\n",
       "      <th>1</th>\n",
       "      <td>02-Jan-2019</td>\n",
       "      <td>10868.85</td>\n",
       "      <td>10895.35</td>\n",
       "      <td>10735.05</td>\n",
       "      <td>10792.50</td>\n",
       "      <td>309665939</td>\n",
       "      <td>15352.25</td>\n",
       "    </tr>\n",
       "    <tr>\n",
       "      <th>2</th>\n",
       "      <td>03-Jan-2019</td>\n",
       "      <td>10796.80</td>\n",
       "      <td>10814.05</td>\n",
       "      <td>10661.25</td>\n",
       "      <td>10672.25</td>\n",
       "      <td>286241745</td>\n",
       "      <td>15030.45</td>\n",
       "    </tr>\n",
       "    <tr>\n",
       "      <th>3</th>\n",
       "      <td>04-Jan-2019</td>\n",
       "      <td>10699.70</td>\n",
       "      <td>10741.05</td>\n",
       "      <td>10628.65</td>\n",
       "      <td>10727.35</td>\n",
       "      <td>296596655</td>\n",
       "      <td>14516.74</td>\n",
       "    </tr>\n",
       "    <tr>\n",
       "      <th>4</th>\n",
       "      <td>07-Jan-2019</td>\n",
       "      <td>10804.85</td>\n",
       "      <td>10835.95</td>\n",
       "      <td>10750.15</td>\n",
       "      <td>10771.80</td>\n",
       "      <td>269371080</td>\n",
       "      <td>12731.29</td>\n",
       "    </tr>\n",
       "  </tbody>\n",
       "</table>\n",
       "</div>"
      ],
      "text/plain": [
       "          Date      Open      High       Low     Close  Shares Traded  \\\n",
       "0  01-Jan-2019  10881.70  10923.60  10807.10  10910.10      159404542   \n",
       "1  02-Jan-2019  10868.85  10895.35  10735.05  10792.50      309665939   \n",
       "2  03-Jan-2019  10796.80  10814.05  10661.25  10672.25      286241745   \n",
       "3  04-Jan-2019  10699.70  10741.05  10628.65  10727.35      296596655   \n",
       "4  07-Jan-2019  10804.85  10835.95  10750.15  10771.80      269371080   \n",
       "\n",
       "   Turnover (Rs. Cr)  \n",
       "0            8688.26  \n",
       "1           15352.25  \n",
       "2           15030.45  \n",
       "3           14516.74  \n",
       "4           12731.29  "
      ]
     },
     "execution_count": 40,
     "metadata": {},
     "output_type": "execute_result"
    }
   ],
   "source": [
    "data.head()"
   ]
  },
  {
   "cell_type": "code",
   "execution_count": 41,
   "metadata": {},
   "outputs": [
    {
     "data": {
      "text/plain": [
       "(744, 7)"
      ]
     },
     "execution_count": 41,
     "metadata": {},
     "output_type": "execute_result"
    }
   ],
   "source": [
    "data.shape"
   ]
  },
  {
   "cell_type": "code",
   "execution_count": 42,
   "metadata": {
    "execution": {
     "iopub.execute_input": "2022-02-21T17:32:48.839935Z",
     "iopub.status.busy": "2022-02-21T17:32:48.839201Z",
     "iopub.status.idle": "2022-02-21T17:32:48.859500Z",
     "shell.execute_reply": "2022-02-21T17:32:48.858856Z",
     "shell.execute_reply.started": "2022-02-21T17:32:48.839891Z"
    }
   },
   "outputs": [],
   "source": [
    "# format date to datetime object\n",
    "data.Date = pd.DataFrame([datetime.strptime(i, '%d-%b-%Y') for i in data.Date.values])"
   ]
  },
  {
   "cell_type": "code",
   "execution_count": 43,
   "metadata": {
    "execution": {
     "iopub.execute_input": "2022-02-21T17:32:48.861198Z",
     "iopub.status.busy": "2022-02-21T17:32:48.860824Z",
     "iopub.status.idle": "2022-02-21T17:32:48.872415Z",
     "shell.execute_reply": "2022-02-21T17:32:48.871845Z",
     "shell.execute_reply.started": "2022-02-21T17:32:48.861170Z"
    }
   },
   "outputs": [],
   "source": [
    "y = data['Close'].values"
   ]
  },
  {
   "cell_type": "code",
   "execution_count": 45,
   "metadata": {
    "execution": {
     "iopub.execute_input": "2022-02-21T17:38:30.121344Z",
     "iopub.status.busy": "2022-02-21T17:38:30.120643Z",
     "iopub.status.idle": "2022-02-21T17:38:30.128948Z",
     "shell.execute_reply": "2022-02-21T17:38:30.128092Z",
     "shell.execute_reply.started": "2022-02-21T17:38:30.121307Z"
    }
   },
   "outputs": [],
   "source": [
    "y1 = data[data['Date']<=datetime.strptime('31-Dec-2020', '%d-%b-%Y')]['Close'].values\n",
    "y2 = data[data['Date']>datetime.strptime('31-Dec-2020', '%d-%b-%Y')]['Close'].values\n",
    "y = y1.copy()"
   ]
  },
  {
   "cell_type": "code",
   "execution_count": 47,
   "metadata": {
    "execution": {
     "iopub.execute_input": "2022-02-21T17:38:35.003748Z",
     "iopub.status.busy": "2022-02-21T17:38:35.002822Z",
     "iopub.status.idle": "2022-02-21T17:38:35.192529Z",
     "shell.execute_reply": "2022-02-21T17:38:35.191589Z",
     "shell.execute_reply.started": "2022-02-21T17:38:35.003690Z"
    }
   },
   "outputs": [
    {
     "data": {
      "image/png": "[encoded data removed]",
      "text/plain": [
       "<Figure size 432x288 with 1 Axes>"
      ]
     },
     "metadata": {
      "needs_background": "light"
     },
     "output_type": "display_data"
    }
   ],
   "source": [
    "plt.plot(y)\n",
    "plt.xlabel('Date')\n",
    "plt.ylabel('Closing Price')\n",
    "plt.title('Stock Data for training')\n",
    "plt.show()"
   ]
  },
  {
   "cell_type": "markdown",
   "metadata": {},
   "source": [
    "## ACF and PACF test"
   ]
  },
  {
   "cell_type": "code",
   "execution_count": 48,
   "metadata": {
    "execution": {
     "iopub.execute_input": "2022-02-21T17:38:37.922889Z",
     "iopub.status.busy": "2022-02-21T17:38:37.922595Z",
     "iopub.status.idle": "2022-02-21T17:38:38.289508Z",
     "shell.execute_reply": "2022-02-21T17:38:38.288070Z",
     "shell.execute_reply.started": "2022-02-21T17:38:37.922850Z"
    }
   },
   "outputs": [
    {
     "data": {
      "image/png": "[encoded data removed]",
      "text/plain": [
       "<Figure size 1600x300 with 2 Axes>"
      ]
     },
     "metadata": {
      "needs_background": "light"
     },
     "output_type": "display_data"
    }
   ],
   "source": [
    "fig, axes = plt.subplots(1,2,figsize=(16,3), dpi= 100)\n",
    "plot_acf(y, lags=70, ax=axes[0])\n",
    "plot_pacf(y, lags=10, ax=axes[1])\n",
    "plt.show()"
   ]
  },
  {
   "cell_type": "markdown",
   "metadata": {},
   "source": [
    "## Pre-processing for LSTM Model"
   ]
  },
  {
   "cell_type": "code",
   "execution_count": 49,
   "metadata": {},
   "outputs": [],
   "source": [
    "# Scale the data\n",
    "yy =y.reshape(-1, 1)\n",
    "\n",
    "from sklearn.preprocessing import MinMaxScaler\n",
    "\n",
    "scaler = MinMaxScaler(feature_range=(0,1))\n",
    "scaled_data = scaler.fit_transform(yy)"
   ]
  },
  {
   "cell_type": "code",
   "execution_count": 50,
   "metadata": {},
   "outputs": [
    {
     "name": "stdout",
     "output_type": "stream",
     "text": [
      "[array([[0.51789161],\n",
      "       [0.499435  ],\n",
      "       [0.48056249],\n",
      "       [0.4892101 ],\n",
      "       [0.49618626],\n",
      "       [0.50094951],\n",
      "       [0.50926754],\n",
      "       [0.50400207],\n",
      "       [0.49981951],\n",
      "       [0.49081878],\n",
      "       [0.51423482],\n",
      "       [0.51478412],\n",
      "       [0.51712259],\n",
      "       [0.51739724],\n",
      "       [0.52601347],\n",
      "       [0.51987696],\n",
      "       [0.50555582],\n",
      "       [0.50842789],\n",
      "       [0.49755952],\n",
      "       [0.47888319],\n",
      "       [0.47741576],\n",
      "       [0.47735298],\n",
      "       [0.5054695 ],\n",
      "       [0.51530989],\n",
      "       [0.51822904],\n",
      "       [0.52169751],\n",
      "       [0.54180203],\n",
      "       [0.54289279],\n",
      "       [0.52314924],\n",
      "       [0.51454871],\n",
      "       [0.50554012],\n",
      "       [0.49961549],\n",
      "       [0.49214495],\n",
      "       [0.48874712],\n",
      "       [0.47565014],\n",
      "       [0.46990599],\n",
      "       [0.49048135],\n",
      "       [0.4990191 ],\n",
      "       [0.4993016 ],\n",
      "       [0.51318329],\n",
      "       [0.5061522 ],\n",
      "       [0.50165576],\n",
      "       [0.499435  ],\n",
      "       [0.51057802],\n",
      "       [0.53003123],\n",
      "       [0.54031891],\n",
      "       [0.54113502],\n",
      "       [0.5375567 ],\n",
      "       [0.55837532],\n",
      "       [0.57927241],\n",
      "       [0.58562864],\n",
      "       [0.5858719 ],\n",
      "       [0.59899242],\n",
      "       [0.60454039],\n",
      "       [0.61555786],\n",
      "       [0.61377654],\n",
      "       [0.60370859],\n",
      "       [0.58759829],\n",
      "       [0.60784406],\n",
      "       [0.6018488 ]])]\n",
      "[array([0.62145895])]\n",
      "\n",
      "[array([[0.51789161],\n",
      "       [0.499435  ],\n",
      "       [0.48056249],\n",
      "       [0.4892101 ],\n",
      "       [0.49618626],\n",
      "       [0.50094951],\n",
      "       [0.50926754],\n",
      "       [0.50400207],\n",
      "       [0.49981951],\n",
      "       [0.49081878],\n",
      "       [0.51423482],\n",
      "       [0.51478412],\n",
      "       [0.51712259],\n",
      "       [0.51739724],\n",
      "       [0.52601347],\n",
      "       [0.51987696],\n",
      "       [0.50555582],\n",
      "       [0.50842789],\n",
      "       [0.49755952],\n",
      "       [0.47888319],\n",
      "       [0.47741576],\n",
      "       [0.47735298],\n",
      "       [0.5054695 ],\n",
      "       [0.51530989],\n",
      "       [0.51822904],\n",
      "       [0.52169751],\n",
      "       [0.54180203],\n",
      "       [0.54289279],\n",
      "       [0.52314924],\n",
      "       [0.51454871],\n",
      "       [0.50554012],\n",
      "       [0.49961549],\n",
      "       [0.49214495],\n",
      "       [0.48874712],\n",
      "       [0.47565014],\n",
      "       [0.46990599],\n",
      "       [0.49048135],\n",
      "       [0.4990191 ],\n",
      "       [0.4993016 ],\n",
      "       [0.51318329],\n",
      "       [0.5061522 ],\n",
      "       [0.50165576],\n",
      "       [0.499435  ],\n",
      "       [0.51057802],\n",
      "       [0.53003123],\n",
      "       [0.54031891],\n",
      "       [0.54113502],\n",
      "       [0.5375567 ],\n",
      "       [0.55837532],\n",
      "       [0.57927241],\n",
      "       [0.58562864],\n",
      "       [0.5858719 ],\n",
      "       [0.59899242],\n",
      "       [0.60454039],\n",
      "       [0.61555786],\n",
      "       [0.61377654],\n",
      "       [0.60370859],\n",
      "       [0.58759829],\n",
      "       [0.60784406],\n",
      "       [0.6018488 ]]), array([[0.499435  ],\n",
      "       [0.48056249],\n",
      "       [0.4892101 ],\n",
      "       [0.49618626],\n",
      "       [0.50094951],\n",
      "       [0.50926754],\n",
      "       [0.50400207],\n",
      "       [0.49981951],\n",
      "       [0.49081878],\n",
      "       [0.51423482],\n",
      "       [0.51478412],\n",
      "       [0.51712259],\n",
      "       [0.51739724],\n",
      "       [0.52601347],\n",
      "       [0.51987696],\n",
      "       [0.50555582],\n",
      "       [0.50842789],\n",
      "       [0.49755952],\n",
      "       [0.47888319],\n",
      "       [0.47741576],\n",
      "       [0.47735298],\n",
      "       [0.5054695 ],\n",
      "       [0.51530989],\n",
      "       [0.51822904],\n",
      "       [0.52169751],\n",
      "       [0.54180203],\n",
      "       [0.54289279],\n",
      "       [0.52314924],\n",
      "       [0.51454871],\n",
      "       [0.50554012],\n",
      "       [0.49961549],\n",
      "       [0.49214495],\n",
      "       [0.48874712],\n",
      "       [0.47565014],\n",
      "       [0.46990599],\n",
      "       [0.49048135],\n",
      "       [0.4990191 ],\n",
      "       [0.4993016 ],\n",
      "       [0.51318329],\n",
      "       [0.5061522 ],\n",
      "       [0.50165576],\n",
      "       [0.499435  ],\n",
      "       [0.51057802],\n",
      "       [0.53003123],\n",
      "       [0.54031891],\n",
      "       [0.54113502],\n",
      "       [0.5375567 ],\n",
      "       [0.55837532],\n",
      "       [0.57927241],\n",
      "       [0.58562864],\n",
      "       [0.5858719 ],\n",
      "       [0.59899242],\n",
      "       [0.60454039],\n",
      "       [0.61555786],\n",
      "       [0.61377654],\n",
      "       [0.60370859],\n",
      "       [0.58759829],\n",
      "       [0.60784406],\n",
      "       [0.6018488 ],\n",
      "       [0.62145895]])]\n",
      "[array([0.62145895]), array([0.62991823])]\n",
      "\n"
     ]
    }
   ],
   "source": [
    "# Create the scaled training data set\n",
    "y1 = scaled_data[0:int(len(y)), :]\n",
    "# Create the training data set \n",
    "# Split the data into x_train and y_train data sets\n",
    "x_train = []\n",
    "y_train = []\n",
    "\n",
    "for i in range(60, len(y1)):\n",
    "    x_train.append(y1[i-60:i])\n",
    "    y_train.append(y1[i])\n",
    "    if i<= 61:\n",
    "        print(x_train)\n",
    "        print(y_train)\n",
    "        print()\n",
    "        \n",
    "# Convert the x_train and y_train to numpy arrays \n",
    "x_train, y_train = np.array(x_train), np.array(y_train)\n",
    "\n",
    "# Reshape the data\n",
    "x_train = np.reshape(x_train, (x_train.shape[0], x_train.shape[1],1))\n",
    "# x_train.shape\n"
   ]
  },
  {
   "cell_type": "markdown",
   "metadata": {},
   "source": [
    "# LSTM Model"
   ]
  },
  {
   "cell_type": "code",
   "execution_count": 51,
   "metadata": {
    "scrolled": true
   },
   "outputs": [
    {
     "name": "stdout",
     "output_type": "stream",
     "text": [
      "Epoch 1/100\n",
      "437/437 [==============================] - 8s 15ms/step - loss: 0.0174\n",
      "Epoch 2/100\n",
      "437/437 [==============================] - 6s 14ms/step - loss: 0.0032\n",
      "Epoch 3/100\n",
      "437/437 [==============================] - 7s 15ms/step - loss: 0.0031\n",
      "Epoch 4/100\n",
      "437/437 [==============================] - 7s 15ms/step - loss: 0.0022\n",
      "Epoch 5/100\n",
      "437/437 [==============================] - 7s 15ms/step - loss: 0.0020\n",
      "Epoch 6/100\n",
      "437/437 [==============================] - 7s 16ms/step - loss: 0.0020\n",
      "Epoch 7/100\n",
      "437/437 [==============================] - 7s 15ms/step - loss: 0.0016\n",
      "Epoch 8/100\n",
      "437/437 [==============================] - 7s 15ms/step - loss: 0.0016\n",
      "Epoch 9/100\n",
      "437/437 [==============================] - 7s 16ms/step - loss: 0.0014\n",
      "Epoch 10/100\n",
      "437/437 [==============================] - 7s 15ms/step - loss: 0.0012: 0s - l\n",
      "Epoch 11/100\n",
      "437/437 [==============================] - 7s 16ms/step - loss: 0.0011\n",
      "Epoch 12/100\n",
      "437/437 [==============================] - 7s 16ms/step - loss: 0.0011\n",
      "Epoch 13/100\n",
      "437/437 [==============================] - 6s 14ms/step - loss: 9.9956e-04\n",
      "Epoch 14/100\n",
      "437/437 [==============================] - 7s 16ms/step - loss: 0.0010\n",
      "Epoch 15/100\n",
      "437/437 [==============================] - 7s 16ms/step - loss: 9.5310e-04\n",
      "Epoch 16/100\n",
      "437/437 [==============================] - 7s 16ms/step - loss: 9.6609e-04\n",
      "Epoch 17/100\n",
      "437/437 [==============================] - 7s 16ms/step - loss: 0.0010\n",
      "Epoch 18/100\n",
      "437/437 [==============================] - 7s 16ms/step - loss: 0.0010\n",
      "Epoch 19/100\n",
      "437/437 [==============================] - 7s 16ms/step - loss: 8.9481e-04\n",
      "Epoch 20/100\n",
      "437/437 [==============================] - 7s 16ms/step - loss: 9.3551e-04\n",
      "Epoch 21/100\n",
      "437/437 [==============================] - 7s 15ms/step - loss: 8.5329e-04: 0s - loss: 8.43\n",
      "Epoch 22/100\n",
      "437/437 [==============================] - 7s 15ms/step - loss: 8.7992e-04\n",
      "Epoch 23/100\n",
      "437/437 [==============================] - 7s 16ms/step - loss: 8.4471e-04\n",
      "Epoch 24/100\n",
      "437/437 [==============================] - 7s 15ms/step - loss: 0.0010\n",
      "Epoch 25/100\n",
      "437/437 [==============================] - 7s 16ms/step - loss: 7.9309e-04\n",
      "Epoch 26/100\n",
      "437/437 [==============================] - 6s 15ms/step - loss: 8.6329e-04\n",
      "Epoch 27/100\n",
      "437/437 [==============================] - 6s 14ms/step - loss: 9.6805e-04\n",
      "Epoch 28/100\n",
      "437/437 [==============================] - 6s 14ms/step - loss: 9.0383e-04\n",
      "Epoch 29/100\n",
      "437/437 [==============================] - 6s 14ms/step - loss: 9.5004e-04\n",
      "Epoch 30/100\n",
      "437/437 [==============================] - 6s 14ms/step - loss: 8.1197e-04\n",
      "Epoch 31/100\n",
      "437/437 [==============================] - 7s 15ms/step - loss: 8.2737e-04\n",
      "Epoch 32/100\n",
      "437/437 [==============================] - 7s 16ms/step - loss: 9.0608e-04\n",
      "Epoch 33/100\n",
      "437/437 [==============================] - 7s 16ms/step - loss: 8.8158e-04\n",
      "Epoch 34/100\n",
      "437/437 [==============================] - 7s 17ms/step - loss: 8.1526e-04\n",
      "Epoch 35/100\n",
      "437/437 [==============================] - 7s 16ms/step - loss: 7.6580e-04\n",
      "Epoch 36/100\n",
      "437/437 [==============================] - 7s 15ms/step - loss: 7.9385e-04\n",
      "Epoch 37/100\n",
      "437/437 [==============================] - 7s 16ms/step - loss: 8.4785e-04: 0s - loss: 8.4976e-0\n",
      "Epoch 38/100\n",
      "437/437 [==============================] - 7s 16ms/step - loss: 8.1571e-04: 0s - loss:\n",
      "Epoch 39/100\n",
      "437/437 [==============================] - 7s 16ms/step - loss: 8.3227e-04\n",
      "Epoch 40/100\n",
      "437/437 [==============================] - 7s 16ms/step - loss: 8.4562e-04\n",
      "Epoch 41/100\n",
      "437/437 [==============================] - 7s 15ms/step - loss: 7.8787e-04\n",
      "Epoch 42/100\n",
      "437/437 [==============================] - 7s 16ms/step - loss: 7.5167e-04\n",
      "Epoch 43/100\n",
      "437/437 [==============================] - 7s 16ms/step - loss: 8.0458e-04\n",
      "Epoch 44/100\n",
      "437/437 [==============================] - 7s 16ms/step - loss: 7.5303e-04\n",
      "Epoch 45/100\n",
      "437/437 [==============================] - 7s 16ms/step - loss: 8.4142e-04: 0s - loss\n",
      "Epoch 46/100\n",
      "437/437 [==============================] - 7s 16ms/step - loss: 8.2324e-04\n",
      "Epoch 47/100\n",
      "437/437 [==============================] - 7s 16ms/step - loss: 9.0608e-04: 0s - loss: \n",
      "Epoch 48/100\n",
      "437/437 [==============================] - 7s 15ms/step - loss: 7.9255e-04\n",
      "Epoch 49/100\n",
      "437/437 [==============================] - 7s 16ms/step - loss: 7.8310e-04\n",
      "Epoch 50/100\n",
      "437/437 [==============================] - 7s 16ms/step - loss: 7.7575e-04\n",
      "Epoch 51/100\n",
      "437/437 [==============================] - 7s 16ms/step - loss: 8.1276e-04\n",
      "Epoch 52/100\n",
      "437/437 [==============================] - 7s 15ms/step - loss: 7.7178e-04\n",
      "Epoch 53/100\n",
      "437/437 [==============================] - 7s 16ms/step - loss: 7.3768e-04\n",
      "Epoch 54/100\n",
      "437/437 [==============================] - 7s 16ms/step - loss: 7.5602e-04\n",
      "Epoch 55/100\n",
      "437/437 [==============================] - 7s 16ms/step - loss: 8.2153e-04\n",
      "Epoch 56/100\n",
      "437/437 [==============================] - 7s 16ms/step - loss: 7.6507e-04\n",
      "Epoch 57/100\n",
      "437/437 [==============================] - 7s 16ms/step - loss: 8.2585e-04\n",
      "Epoch 58/100\n",
      "437/437 [==============================] - 7s 16ms/step - loss: 8.5248e-04\n",
      "Epoch 59/100\n",
      "437/437 [==============================] - 7s 17ms/step - loss: 7.6753e-04\n",
      "Epoch 60/100\n",
      "437/437 [==============================] - 7s 16ms/step - loss: 7.3747e-04\n",
      "Epoch 61/100\n",
      "437/437 [==============================] - 7s 17ms/step - loss: 7.4334e-04\n",
      "Epoch 62/100\n",
      "437/437 [==============================] - 7s 16ms/step - loss: 7.1843e-04\n",
      "Epoch 63/100\n",
      "437/437 [==============================] - 7s 16ms/step - loss: 8.0449e-04\n",
      "Epoch 64/100\n",
      "437/437 [==============================] - 7s 16ms/step - loss: 7.5393e-04\n",
      "Epoch 65/100\n",
      "437/437 [==============================] - 7s 16ms/step - loss: 7.6497e-04\n",
      "Epoch 66/100\n",
      "437/437 [==============================] - 7s 16ms/step - loss: 7.1443e-04\n",
      "Epoch 67/100\n",
      "437/437 [==============================] - 7s 15ms/step - loss: 7.8870e-04\n",
      "Epoch 68/100\n",
      "437/437 [==============================] - 7s 16ms/step - loss: 8.0246e-04\n",
      "Epoch 69/100\n",
      "437/437 [==============================] - 7s 16ms/step - loss: 7.8126e-04\n",
      "Epoch 70/100\n",
      "437/437 [==============================] - 7s 15ms/step - loss: 6.7420e-04\n",
      "Epoch 71/100\n",
      "437/437 [==============================] - 7s 16ms/step - loss: 7.2207e-04\n",
      "Epoch 72/100\n",
      "437/437 [==============================] - 7s 16ms/step - loss: 7.6072e-04\n",
      "Epoch 73/100\n",
      "437/437 [==============================] - 7s 15ms/step - loss: 7.8576e-04\n",
      "Epoch 74/100\n",
      "437/437 [==============================] - 7s 17ms/step - loss: 6.9538e-04\n",
      "Epoch 75/100\n",
      "437/437 [==============================] - 7s 16ms/step - loss: 7.7603e-04\n",
      "Epoch 76/100\n",
      "437/437 [==============================] - 7s 16ms/step - loss: 7.4321e-04\n",
      "Epoch 77/100\n",
      "437/437 [==============================] - 7s 16ms/step - loss: 6.8763e-04\n",
      "Epoch 78/100\n",
      "437/437 [==============================] - 7s 16ms/step - loss: 7.0982e-04\n",
      "Epoch 79/100\n",
      "437/437 [==============================] - 7s 16ms/step - loss: 7.3332e-04\n",
      "Epoch 80/100\n",
      "437/437 [==============================] - 7s 17ms/step - loss: 7.6472e-04\n",
      "Epoch 81/100\n",
      "437/437 [==============================] - 7s 16ms/step - loss: 7.6922e-04\n",
      "Epoch 82/100\n",
      "437/437 [==============================] - 7s 16ms/step - loss: 6.6525e-04\n",
      "Epoch 83/100\n",
      "437/437 [==============================] - 7s 17ms/step - loss: 7.2123e-04\n",
      "Epoch 84/100\n",
      "437/437 [==============================] - 7s 17ms/step - loss: 7.0447e-04\n",
      "Epoch 85/100\n",
      "437/437 [==============================] - 7s 16ms/step - loss: 7.0497e-04\n",
      "Epoch 86/100\n",
      "437/437 [==============================] - 7s 17ms/step - loss: 7.0473e-04\n",
      "Epoch 87/100\n",
      "437/437 [==============================] - 7s 15ms/step - loss: 6.8080e-04\n",
      "Epoch 88/100\n",
      "437/437 [==============================] - 7s 15ms/step - loss: 6.9604e-04\n",
      "Epoch 89/100\n",
      "437/437 [==============================] - 7s 16ms/step - loss: 6.6906e-04\n",
      "Epoch 90/100\n",
      "437/437 [==============================] - 7s 16ms/step - loss: 7.7809e-04\n",
      "Epoch 91/100\n",
      "437/437 [==============================] - 7s 16ms/step - loss: 6.5080e-04\n",
      "Epoch 92/100\n",
      "437/437 [==============================] - 7s 16ms/step - loss: 6.9146e-04\n",
      "Epoch 93/100\n",
      "437/437 [==============================] - 7s 16ms/step - loss: 6.7400e-04\n",
      "Epoch 94/100\n",
      "437/437 [==============================] - 7s 16ms/step - loss: 6.4824e-04\n",
      "Epoch 95/100\n",
      "437/437 [==============================] - 7s 15ms/step - loss: 6.9738e-04\n",
      "Epoch 96/100\n",
      "437/437 [==============================] - 7s 16ms/step - loss: 7.0730e-04\n",
      "Epoch 97/100\n",
      "437/437 [==============================] - 6s 14ms/step - loss: 6.1444e-04\n",
      "Epoch 98/100\n",
      "437/437 [==============================] - 7s 16ms/step - loss: 6.4144e-04\n",
      "Epoch 99/100\n",
      "437/437 [==============================] - 7s 16ms/step - loss: 6.6115e-04\n",
      "Epoch 100/100\n",
      "437/437 [==============================] - 8s 17ms/step - loss: 6.3641e-04\n"
     ]
    },
    {
     "data": {
      "text/plain": [
       "<keras.callbacks.History at 0x1ac5f56cb50>"
      ]
     },
     "execution_count": 51,
     "metadata": {},
     "output_type": "execute_result"
    }
   ],
   "source": [
    "from keras.models import Sequential\n",
    "from keras.layers import Dense, LSTM\n",
    "\n",
    "# Build the LSTM model\n",
    "model = Sequential()\n",
    "model.add(LSTM(32, return_sequences=True, input_shape= (x_train.shape[1], 1)))\n",
    "model.add(LSTM(16, return_sequences=False))\n",
    "model.add(Dense(20))\n",
    "model.add(Dense(1))\n",
    "\n",
    "# Compile the model\n",
    "model.compile(optimizer='adam', loss='mean_squared_error')\n",
    "\n",
    "# Train the model\n",
    "model.fit(x_train, y_train, batch_size=1, epochs=100)"
   ]
  },
  {
   "cell_type": "markdown",
   "metadata": {},
   "source": [
    "## Prediction & RMSE test - LSTM Model"
   ]
  },
  {
   "cell_type": "code",
   "execution_count": 52,
   "metadata": {},
   "outputs": [
    {
     "name": "stdout",
     "output_type": "stream",
     "text": [
      "Test RMSE for LSTM Model: 282.701\n"
     ]
    }
   ],
   "source": [
    "# Create the testing data set\n",
    "# Create a new array containing scaled values from index 1543 to 2002 \n",
    "test_data = scaled_data[len(y)-100: , :]\n",
    "# Create the data sets x_test and y_test\n",
    "x_test = []\n",
    "y_test = yy[len(x_train):, :]\n",
    "for i in range(60, len(test_data)):\n",
    "    x_test.append(test_data[i-60:i, 0])\n",
    "    \n",
    "# Convert the data to a numpy array\n",
    "x_test = np.array(x_test)\n",
    "\n",
    "# Reshape the data\n",
    "x_test = np.reshape(x_test, (x_test.shape[0], x_test.shape[1], 1))\n",
    "\n",
    "# Get the models predicted price values \n",
    "predictions = model.predict(x_test)\n",
    "predictions = scaler.inverse_transform(predictions)\n",
    "p_mean =np.mean(predictions)\n",
    "ytest_mean = np.mean(y_test)\n",
    "\n",
    "# Get the root mean squared error (RMSE)\n",
    "rmse = np.sqrt(((p_mean - ytest_mean) ** 2))\n",
    "print('Test RMSE for LSTM Model: %.3f' % rmse)"
   ]
  },
  {
   "cell_type": "code",
   "execution_count": 73,
   "metadata": {},
   "outputs": [
    {
     "data": {
      "image/png": "[encoded data removed]",
      "text/plain": [
       "<Figure size 1152x432 with 1 Axes>"
      ]
     },
     "metadata": {
      "needs_background": "light"
     },
     "output_type": "display_data"
    }
   ],
   "source": [
    "# Plot the data\n",
    "train = y[len(x_train)+15 :]\n",
    "\n",
    "# Visualize the data\n",
    "plt.figure(figsize=(16,6))\n",
    "plt.title('Model')\n",
    "plt.ylabel('Close Price USD ($)', fontsize=18)\n",
    "plt.plot(train)\n",
    "plt.plot(predictions, color=\"red\")\n",
    "plt.legend(['Actual', 'Predictions'])\n",
    "plt.show()"
   ]
  },
  {
   "cell_type": "markdown",
   "metadata": {},
   "source": [
    "### The Prediction or forecast of the time series done using LSTM Model is not so perfect as the Root Mean Square error is some-what high. So, I have used some alternatives of this model such as, ARIMA Model  "
   ]
  },
  {
   "cell_type": "markdown",
   "metadata": {
    "execution": {
     "iopub.execute_input": "2022-02-21T18:01:08.175247Z",
     "iopub.status.busy": "2022-02-21T18:01:08.174480Z",
     "iopub.status.idle": "2022-02-21T18:01:08.179990Z",
     "shell.execute_reply": "2022-02-21T18:01:08.178979Z",
     "shell.execute_reply.started": "2022-02-21T18:01:08.175202Z"
    }
   },
   "source": [
    "# ARIMA Model"
   ]
  },
  {
   "cell_type": "code",
   "execution_count": 19,
   "metadata": {
    "execution": {
     "iopub.execute_input": "2022-02-21T18:01:36.519759Z",
     "iopub.status.busy": "2022-02-21T18:01:36.519460Z",
     "iopub.status.idle": "2022-02-21T18:01:45.613095Z",
     "shell.execute_reply": "2022-02-21T18:01:45.612135Z",
     "shell.execute_reply.started": "2022-02-21T18:01:36.519726Z"
    }
   },
   "outputs": [
    {
     "name": "stdout",
     "output_type": "stream",
     "text": [
      "predicted=14009.638287, expected=14018.500000\n",
      "predicted=14034.302686, expected=14132.900000\n",
      "predicted=14203.289321, expected=14199.500000\n",
      "predicted=14293.193945, expected=14146.250000\n",
      "predicted=14160.900895, expected=14137.350000\n",
      "predicted=14103.327453, expected=14347.250000\n",
      "predicted=14433.306370, expected=14484.750000\n",
      "predicted=14663.198714, expected=14563.450000\n",
      "predicted=14675.390880, expected=14564.850000\n",
      "predicted=14609.930608, expected=14595.600000\n",
      "predicted=14609.765527, expected=14433.700000\n",
      "predicted=14380.698154, expected=14281.300000\n",
      "predicted=14123.537017, expected=14521.150000\n",
      "predicted=14539.658890, expected=14644.700000\n",
      "predicted=14833.690217, expected=14590.350000\n",
      "predicted=14635.900807, expected=14371.900000\n",
      "predicted=14245.295141, expected=14238.900000\n",
      "predicted=14058.076051, expected=13967.500000\n",
      "predicted=13773.602851, expected=13817.550000\n",
      "predicted=13599.557535, expected=13634.600000\n",
      "predicted=13470.133500, expected=14281.200000\n",
      "predicted=14462.655877, expected=14647.850000\n",
      "predicted=15169.838358, expected=14789.950000\n",
      "predicted=15055.726091, expected=14895.650000\n",
      "predicted=15021.348796, expected=14924.250000\n",
      "predicted=14995.200995, expected=15115.800000\n",
      "predicted=15217.782218, expected=15109.300000\n",
      "predicted=15211.796262, expected=15106.500000\n",
      "predicted=15101.666576, expected=15173.300000\n",
      "predicted=15201.849060, expected=15163.300000\n",
      "predicted=15195.517297, expected=15314.700000\n",
      "predicted=15377.319908, expected=15313.450000\n",
      "predicted=15396.229285, expected=15208.900000\n",
      "predicted=15161.102126, expected=15118.950000\n",
      "predicted=15020.980991, expected=14981.750000\n",
      "predicted=14870.503898, expected=14675.700000\n",
      "predicted=14462.338388, expected=14707.800000\n",
      "predicted=14553.754121, expected=14982.000000\n",
      "predicted=15124.264517, expected=15097.350000\n",
      "predicted=15299.309262, expected=14529.150000\n",
      "predicted=14330.284104, expected=14761.550000\n",
      "predicted=14552.788037, expected=14919.100000\n",
      "predicted=15117.104688, expected=15245.600000\n",
      "predicted=15480.726344, expected=15080.750000\n",
      "predicted=15182.790652, expected=14938.100000\n",
      "predicted=14783.486454, expected=14956.200000\n",
      "predicted=14887.693409, expected=15098.400000\n",
      "predicted=15173.888861, expected=15174.800000\n",
      "predicted=15286.572482, expected=15030.950000\n",
      "predicted=15005.366047, expected=14929.500000\n",
      "predicted=14805.307141, expected=14910.450000\n",
      "predicted=14847.213486, expected=14721.300000\n",
      "predicted=14623.429437, expected=14557.850000\n",
      "predicted=14380.618499, expected=14744.000000\n",
      "predicted=14742.812758, expected=14736.400000\n",
      "predicted=14832.642278, expected=14814.750000\n",
      "predicted=14847.043040, expected=14549.400000\n",
      "predicted=14468.523247, expected=14324.900000\n",
      "predicted=14078.544914, expected=14507.300000\n",
      "predicted=14472.287160, expected=14845.100000\n",
      "predicted=15100.696196, expected=14690.700000\n",
      "predicted=14797.720855, expected=14867.350000\n",
      "predicted=14867.773802, expected=14637.800000\n",
      "predicted=14625.538366, expected=14683.500000\n",
      "predicted=14581.734724, expected=14819.050000\n",
      "predicted=14906.663557, expected=14873.800000\n",
      "predicted=14971.667724, expected=14834.850000\n",
      "predicted=14845.867219, expected=14310.800000\n",
      "predicted=14044.548060, expected=14504.800000\n",
      "predicted=14311.864792, expected=14581.450000\n",
      "predicted=14720.581658, expected=14617.850000\n",
      "predicted=14675.665114, expected=14359.450000\n",
      "predicted=14257.765348, expected=14296.400000\n",
      "predicted=14129.425159, expected=14406.150000\n",
      "predicted=14424.283251, expected=14341.350000\n",
      "predicted=14369.179672, expected=14485.000000\n",
      "predicted=14517.889148, expected=14653.050000\n",
      "predicted=14808.157332, expected=14864.550000\n",
      "predicted=15053.003745, expected=14894.900000\n",
      "predicted=15021.375513, expected=14631.100000\n",
      "predicted=14522.687987, expected=14634.150000\n",
      "predicted=14495.943696, expected=14496.500000\n",
      "predicted=14433.330998, expected=14617.850000\n",
      "predicted=14601.875674, expected=14724.800000\n",
      "predicted=14839.370229, expected=14823.150000\n",
      "predicted=14926.051056, expected=14942.350000\n",
      "predicted=15050.515874, expected=14850.750000\n",
      "predicted=14870.736758, expected=14696.500000\n",
      "predicted=14575.338989, expected=14677.800000\n",
      "predicted=14587.478408, expected=14923.150000\n",
      "predicted=15029.382246, expected=15108.100000\n",
      "predicted=15324.832534, expected=15030.150000\n",
      "predicted=15090.380170, expected=14906.050000\n",
      "predicted=14806.134038, expected=15175.300000\n",
      "predicted=15238.223284, expected=15197.700000\n",
      "predicted=15349.712828, expected=15208.450000\n",
      "predicted=15225.304055, expected=15301.450000\n",
      "predicted=15351.351333, expected=15337.850000\n",
      "predicted=15403.911135, expected=15435.650000\n",
      "predicted=15501.268891, expected=15582.800000\n",
      "predicted=15704.091840, expected=15574.850000\n",
      "predicted=15648.201714, expected=15576.200000\n",
      "predicted=15572.678249, expected=15690.350000\n",
      "predicted=15745.413194, expected=15670.250000\n",
      "predicted=15720.511149, expected=15751.650000\n",
      "predicted=15779.838073, expected=15740.100000\n",
      "predicted=15777.293017, expected=15635.350000\n",
      "predicted=15579.435320, expected=15737.750000\n",
      "predicted=15731.507577, expected=15799.350000\n",
      "predicted=15882.330268, expected=15811.850000\n",
      "predicted=15850.075834, expected=15869.250000\n",
      "predicted=15903.122688, expected=15767.550000\n",
      "predicted=15749.249649, expected=15691.400000\n",
      "predicted=15601.863948, expected=15683.350000\n",
      "predicted=15639.624997, expected=15746.500000\n",
      "predicted=15772.366861, expected=15772.750000\n",
      "predicted=15818.322840, expected=15686.950000\n",
      "predicted=15659.808959, expected=15790.450000\n",
      "predicted=15794.759907, expected=15860.350000\n",
      "predicted=15947.842963, expected=15814.700000\n",
      "predicted=15829.536355, expected=15748.450000\n",
      "predicted=15692.977460, expected=15721.500000\n",
      "predicted=15673.987799, expected=15680.000000\n",
      "predicted=15646.112832, expected=15722.200000\n",
      "predicted=15720.602587, expected=15834.350000\n",
      "predicted=15909.918123, expected=15818.250000\n",
      "predicted=15869.248865, expected=15879.650000\n",
      "predicted=15900.498484, expected=15727.900000\n",
      "predicted=15687.771307, expected=15689.800000\n",
      "predicted=15592.181111, expected=15692.600000\n",
      "predicted=15673.994984, expected=15812.350000\n",
      "predicted=15870.914532, expected=15853.950000\n",
      "predicted=15936.442291, expected=15924.200000\n",
      "predicted=15979.459238, expected=15923.400000\n",
      "predicted=15959.780609, expected=15752.400000\n",
      "predicted=15670.385567, expected=15632.100000\n",
      "predicted=15485.302373, expected=15824.050000\n",
      "predicted=15852.987739, expected=15856.050000\n",
      "predicted=15971.550407, expected=15824.450000\n",
      "predicted=15826.004683, expected=15746.450000\n",
      "predicted=15692.631411, expected=15709.400000\n",
      "predicted=15651.007286, expected=15778.450000\n",
      "predicted=15792.218549, expected=15763.050000\n",
      "predicted=15791.660541, expected=15885.150000\n",
      "predicted=15935.556988, expected=16130.750000\n",
      "predicted=16312.061778, expected=16258.800000\n",
      "predicted=16448.066891, expected=16294.600000\n",
      "predicted=16378.389068, expected=16238.200000\n",
      "predicted=16229.725874, expected=16258.250000\n",
      "predicted=16238.553664, expected=16280.100000\n",
      "predicted=16301.014338, expected=16282.250000\n",
      "predicted=16294.640579, expected=16364.400000\n",
      "predicted=16404.959501, expected=16529.100000\n",
      "predicted=16650.909128, expected=16563.050000\n",
      "predicted=16664.965692, expected=16614.600000\n",
      "predicted=16657.004721, expected=16568.850000\n",
      "predicted=16573.664601, expected=16450.500000\n",
      "predicted=16369.851606, expected=16496.450000\n",
      "predicted=16457.029185, expected=16624.600000\n",
      "predicted=16710.109871, expected=16634.650000\n",
      "predicted=16705.987160, expected=16636.900000\n",
      "predicted=16643.195833, expected=16705.200000\n",
      "predicted=16739.238341, expected=16931.050000\n",
      "predicted=17075.238309, expected=17132.200000\n",
      "predicted=17346.145856, expected=17076.250000\n",
      "predicted=17153.433182, expected=17234.150000\n",
      "predicted=17281.170985, expected=17323.600000\n",
      "predicted=17448.521915, expected=17377.800000\n",
      "predicted=17450.262143, expected=17362.100000\n",
      "predicted=17382.607287, expected=17353.500000\n",
      "predicted=17341.222661, expected=17369.250000\n",
      "predicted=17372.388140, expected=17355.300000\n",
      "predicted=17356.733593, expected=17380.000000\n",
      "predicted=17384.679306, expected=17519.450000\n",
      "predicted=17599.477648, expected=17629.500000\n",
      "predicted=17754.771716, expected=17585.150000\n",
      "predicted=17620.715993, expected=17396.900000\n",
      "predicted=17282.974377, expected=17562.000000\n",
      "predicted=17544.155137, expected=17546.650000\n",
      "predicted=17624.724109, expected=17822.950000\n",
      "predicted=17947.929453, expected=17853.200000\n",
      "predicted=18011.325047, expected=17855.100000\n",
      "predicted=17871.700065, expected=17748.600000\n",
      "predicted=17698.296614, expected=17711.300000\n",
      "predicted=17638.121566, expected=17618.150000\n",
      "predicted=17553.959846, expected=17532.050000\n",
      "predicted=17442.294557, expected=17691.250000\n",
      "predicted=17723.277091, expected=17822.300000\n",
      "predicted=17967.923075, expected=17646.000000\n",
      "predicted=17628.719408, expected=17790.350000\n",
      "predicted=17768.306218, expected=17895.200000\n",
      "predicted=18020.498326, expected=17945.950000\n",
      "predicted=18024.702053, expected=17991.950000\n",
      "predicted=18040.408384, expected=18161.750000\n",
      "predicted=18267.473757, expected=18338.550000\n",
      "predicted=18511.728778, expected=18477.050000\n",
      "predicted=18635.363960, expected=18418.750000\n",
      "predicted=18462.210518, expected=18266.600000\n",
      "predicted=18162.866285, expected=18178.100000\n",
      "predicted=18056.760091, expected=18114.900000\n",
      "predicted=18038.649214, expected=18125.400000\n",
      "predicted=18097.886835, expected=18268.400000\n",
      "predicted=18343.109837, expected=18210.950000\n",
      "predicted=18256.920352, expected=17857.250000\n",
      "predicted=17655.656745, expected=17671.650000\n",
      "predicted=17399.714451, expected=17929.650000\n",
      "predicted=17961.062785, expected=17888.950000\n",
      "predicted=18001.116744, expected=17829.200000\n",
      "predicted=17779.169649, expected=17916.800000\n",
      "predicted=17929.206994, expected=18068.550000\n",
      "predicted=18187.603749, expected=18044.250000\n",
      "predicted=18109.729728, expected=18017.200000\n",
      "predicted=17991.551075, expected=17873.600000\n",
      "predicted=17789.379702, expected=18102.750000\n",
      "predicted=18141.587467, expected=18109.450000\n",
      "predicted=18229.807421, expected=17999.200000\n",
      "predicted=17948.522586, expected=17898.650000\n",
      "predicted=17793.160573, expected=17764.800000\n",
      "predicted=17647.907618, expected=17416.550000\n",
      "predicted=17177.429585, expected=17503.350000\n",
      "predicted=17367.806198, expected=17415.050000\n",
      "predicted=17416.133710, expected=17536.250000\n",
      "predicted=17550.373327, expected=17026.450000\n",
      "predicted=16841.173940, expected=17053.950000\n",
      "predicted=16802.995360, expected=16983.200000\n",
      "predicted=16963.090400, expected=17166.900000\n",
      "predicted=17219.302345, expected=17401.650000\n",
      "predicted=17610.126854, expected=17196.700000\n",
      "predicted=17218.295674, expected=16912.250000\n",
      "predicted=16668.449506, expected=17176.700000\n",
      "predicted=17159.884497, expected=17469.750000\n",
      "predicted=17748.284965, expected=17516.850000\n",
      "predicted=17688.819590, expected=17511.300000\n",
      "predicted=17532.414769, expected=17368.250000\n",
      "predicted=17294.803606, expected=17324.900000\n",
      "predicted=17231.068265, expected=17221.400000\n",
      "predicted=17148.358394, expected=17248.400000\n",
      "predicted=17209.294789, expected=16985.200000\n",
      "predicted=16869.243274, expected=16614.200000\n",
      "predicted=16297.667509, expected=16770.850000\n",
      "predicted=16660.157980, expected=16955.450000\n",
      "predicted=17126.012367, expected=17072.600000\n",
      "predicted=17223.629608, expected=17003.750000\n",
      "predicted=17028.247575, expected=17086.250000\n",
      "predicted=17092.744664, expected=17233.250000\n",
      "predicted=17347.897712, expected=17213.600000\n",
      "predicted=17277.580860, expected=17203.950000\n"
     ]
    }
   ],
   "source": [
    "# Using the another model to increase the Prediction Accuracy\n",
    "\n",
    "# ARIMA Model\n",
    "\n",
    "y11 = y.tolist()\n",
    "predictions = []\n",
    "for t in range(len(y2)):\n",
    "    model = ARIMA(y11, order=(1,2,0))\n",
    "    model_fit = model.fit()\n",
    "    output = model_fit.forecast()\n",
    "    yhat = output[0]\n",
    "    predictions.append(yhat)\n",
    "    y11.append(y2[t])\n",
    "    print('predicted=%f, expected=%f' % (yhat, y2[t]))"
   ]
  },
  {
   "cell_type": "markdown",
   "metadata": {},
   "source": [
    "## Prediction & RMSE test- ARIMA Model"
   ]
  },
  {
   "cell_type": "code",
   "execution_count": 20,
   "metadata": {
    "execution": {
     "iopub.execute_input": "2022-02-21T18:01:45.615548Z",
     "iopub.status.busy": "2022-02-21T18:01:45.615248Z",
     "iopub.status.idle": "2022-02-21T18:01:45.850701Z",
     "shell.execute_reply": "2022-02-21T18:01:45.849724Z",
     "shell.execute_reply.started": "2022-02-21T18:01:45.615506Z"
    }
   },
   "outputs": [
    {
     "name": "stdout",
     "output_type": "stream",
     "text": [
      "Test RMSE for ARIMA Model: 196.384\n"
     ]
    },
    {
     "data": {
      "image/png": "[encoded data removed]",
      "text/plain": [
       "<Figure size 1080x360 with 1 Axes>"
      ]
     },
     "metadata": {
      "needs_background": "light"
     },
     "output_type": "display_data"
    }
   ],
   "source": [
    "rmse = np.sqrt(mean_squared_error(y2, predictions))\n",
    "print('Test RMSE for ARIMA Model: %.3f' % rmse)\n",
    "\n",
    "fig = plt.figure(figsize=(15,5))\n",
    "plt.plot(y2)\n",
    "plt.plot(predictions, color='red')\n",
    "plt.legend(['Test data', 'Predicted data'])\n",
    "plt.show()"
   ]
  },
  {
   "cell_type": "code",
   "execution_count": null,
   "metadata": {},
   "outputs": [],
   "source": []
  }
 ],
 "metadata": {
  "kernelspec": {
   "display_name": "Python 3 (ipykernel)",
   "language": "python",
   "name": "python3"
  },
  "language_info": {
   "codemirror_mode": {
    "name": "ipython",
    "version": 3
   },
   "file_extension": ".py",
   "mimetype": "text/x-python",
   "name": "python",
   "nbconvert_exporter": "python",
   "pygments_lexer": "ipython3",
   "version": "3.9.7"
  }
 },
 "nbformat": 4,
 "nbformat_minor": 4
}
